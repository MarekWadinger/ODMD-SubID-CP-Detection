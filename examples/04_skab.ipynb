{
 "cells": [
  {
   "cell_type": "code",
   "execution_count": 2,
   "metadata": {},
   "outputs": [],
   "source": [
    "import sys\n",
    "\n",
    "import matplotlib.pyplot as plt\n",
    "import pandas as pd\n",
    "from river.decomposition import OnlineDMD\n",
    "from river.preprocessing import Hankelizer\n",
    "from river.utils import Rolling\n",
    "\n",
    "Rolling.learn_one = Rolling.update  # type: ignore\n",
    "sys.path.append(\"../\")\n",
    "\n",
    "from functions.chdsubid import SubIDChangeDetector  # noqa: E402\n",
    "from functions.datasets import load_skab  # noqa: E402\n",
    "from functions.evaluate import evaluate  # noqa: E402"
   ]
  },
  {
   "cell_type": "code",
   "execution_count": null,
   "metadata": {},
   "outputs": [],
   "source": [
    "%load_ext autoreload\n",
    "%autoreload 2"
   ]
  },
  {
   "cell_type": "code",
   "execution_count": null,
   "metadata": {},
   "outputs": [],
   "source": [
    "# Read data\n",
    "dfs = load_skab(\"data/skab\")\n",
    "dfs_free = [\n",
    "    df\n",
    "    for key, df_group in dfs.items()\n",
    "    for df in df_group\n",
    "    if key == \"anomaly-free\"\n",
    "]\n",
    "dfs_: list[pd.DataFrame] = [\n",
    "    pd.DataFrame(df)\n",
    "    for key, df_group in dfs.items()\n",
    "    for df in df_group\n",
    "    if key != \"anomaly-free\"\n",
    "]\n",
    "for df in dfs_:\n",
    "    df.index = pd.to_datetime(df.index)"
   ]
  },
  {
   "cell_type": "code",
   "execution_count": null,
   "metadata": {},
   "outputs": [],
   "source": [
    "# Prepare arrays for storing results\n",
    "scores_datasets = []\n",
    "predicted_outlier, predicted_cp = [], []\n",
    "\n",
    "# Iterate datasets\n",
    "for i, df in enumerate([dfs[\"valve1\"][0]]):\n",
    "    print(f\"Processing dataset {i+1}/{len(dfs_)}\", end=\"\\r\")\n",
    "    # Initialize Hankelizer\n",
    "    hn = 30\n",
    "    hankelizer = Hankelizer(hn)\n",
    "\n",
    "    # Initialize Transformer\n",
    "    r = 2\n",
    "    init_size = 400\n",
    "    odmd = Rolling(\n",
    "        OnlineDMD(\n",
    "            r=r,\n",
    "            initialize=init_size,\n",
    "            w=1.0,\n",
    "            exponential_weighting=False,\n",
    "            eig_rtol=1e-1,\n",
    "        ),\n",
    "        init_size + 1,\n",
    "    )\n",
    "\n",
    "    # Initialize Change-Point Detector\n",
    "    ref_size = 300\n",
    "    test_size = 30\n",
    "    subid_dmd = SubIDChangeDetector(\n",
    "        odmd,\n",
    "        ref_size=ref_size,\n",
    "        test_size=test_size,\n",
    "        grace_period=init_size + test_size + 1,\n",
    "        threshold=df.std().mean() / 100,\n",
    "        learn_after_grace=False,\n",
    "    )\n",
    "\n",
    "    # Build pipeline\n",
    "    pipeline_dmd = hankelizer | subid_dmd\n",
    "\n",
    "    X = df.drop([\"anomaly\", \"changepoint\"], axis=1)\n",
    "\n",
    "    scores_dmd = []\n",
    "    predictions = []\n",
    "    # Run pipeline\n",
    "    for j, x in enumerate(X.to_dict(orient=\"records\")):\n",
    "        if (j + 1) % 1000 == 0:\n",
    "            print(f\"\\rProcessed {j + 1}/{len(X)}\", end=\"\")\n",
    "        pipeline_dmd.learn_one(x)\n",
    "\n",
    "        if j >= init_size + test_size:\n",
    "            scores_dmd.append(subid_dmd.score)\n",
    "            predictions.append(subid_dmd._drift_detected)\n",
    "\n",
    "    prediction = (\n",
    "        pd.Series(predictions, index=X.index[init_size + test_size :])\n",
    "        .astype(int)\n",
    "        .rolling(30)\n",
    "        .max()\n",
    "        .fillna(0)\n",
    "    )\n",
    "\n",
    "    scores_datasets.append(\n",
    "        pd.Series(scores_dmd, index=X.index[init_size + test_size :])\n",
    "    )\n",
    "    predicted_outlier.append(prediction)\n",
    "    prediction_cp = prediction.diff().abs()\n",
    "    prediction_cp.iloc[0] = prediction.iloc[0]\n",
    "    predicted_cp.append(prediction_cp)"
   ]
  },
  {
   "cell_type": "code",
   "execution_count": null,
   "metadata": {},
   "outputs": [],
   "source": [
    "true_outlier = [df[\"anomaly\"] for df in dfs_]\n",
    "true_cp = [df[\"changepoint\"] for df in dfs_]"
   ]
  },
  {
   "cell_type": "code",
   "execution_count": null,
   "metadata": {},
   "outputs": [],
   "source": [
    "pos = []\n",
    "for sd in scores_datasets:\n",
    "    pos.append((sd > 0.001).astype(int))"
   ]
  },
  {
   "cell_type": "code",
   "execution_count": null,
   "metadata": {},
   "outputs": [],
   "source": [
    "pcs = []\n",
    "for prediction in pos:\n",
    "    pc = prediction.diff().abs()\n",
    "    pc.iloc[0] = prediction.iloc[0]\n",
    "    pcs.append(pc)"
   ]
  },
  {
   "cell_type": "code",
   "execution_count": null,
   "metadata": {},
   "outputs": [],
   "source": [
    "binary = evaluate(true_outlier, pos, metric=\"binary\")"
   ]
  },
  {
   "cell_type": "code",
   "execution_count": null,
   "metadata": {},
   "outputs": [],
   "source": [
    "# average detection delay metric calculation\n",
    "add = evaluate(\n",
    "    true_cp,\n",
    "    predicted_cp,\n",
    "    metric=\"average_time\",\n",
    "    anomaly_window_destination=\"lefter\",\n",
    "    portion=1,\n",
    ")"
   ]
  },
  {
   "cell_type": "code",
   "execution_count": null,
   "metadata": {},
   "outputs": [],
   "source": [
    "# nab metric calculation\n",
    "nab = evaluate(\n",
    "    true_cp,\n",
    "    predicted_cp,\n",
    "    metric=\"nab\",\n",
    "    window_width=\"30s\",\n",
    "    anomaly_window_destination=\"center\",\n",
    ")"
   ]
  },
  {
   "cell_type": "markdown",
   "metadata": {},
   "source": [
    "# Visualize results"
   ]
  },
  {
   "cell_type": "code",
   "execution_count": null,
   "metadata": {},
   "outputs": [],
   "source": [
    "# true outlier indices selection\n",
    "true_outlier = [df.anomaly for df in dfs_]\n",
    "\n",
    "fig, axs = plt.subplots(len(dfs_), 1, figsize=(12, 18))\n",
    "for ax, to, po in zip(axs, true_outlier, predicted_outlier):\n",
    "    po.astype(int).plot(label=\"predictions\", marker=\"o\", markersize=5, ax=ax)\n",
    "    to.plot(marker=\"o\", markersize=2, ax=ax)\n",
    "    ax.set_xlabel(\"\")\n",
    "ax.legend()"
   ]
  },
  {
   "cell_type": "code",
   "execution_count": null,
   "metadata": {},
   "outputs": [],
   "source": [
    "# true changepoint indices selection\n",
    "true_cp = [df.changepoint for df in dfs_]\n",
    "\n",
    "fig, axs = plt.subplots(len(dfs_), 1, figsize=(12, 18))\n",
    "for ax, tc, pc in zip(axs, true_cp, predicted_cp):\n",
    "    pc.plot(label=\"predictions\", marker=\"o\", markersize=5, ax=ax)\n",
    "    tc.plot(marker=\"o\", markersize=2, ax=ax)\n",
    "    ax.set_xlabel(\"\")\n",
    "ax.legend()"
   ]
  },
  {
   "cell_type": "code",
   "execution_count": null,
   "metadata": {},
   "outputs": [],
   "source": []
  }
 ],
 "metadata": {
  "kernelspec": {
   "display_name": ".venv",
   "language": "python",
   "name": "python3"
  },
  "language_info": {
   "codemirror_mode": {
    "name": "ipython",
    "version": 3
   },
   "file_extension": ".py",
   "mimetype": "text/x-python",
   "name": "python",
   "nbconvert_exporter": "python",
   "pygments_lexer": "ipython3",
   "version": "3.12.2"
  }
 },
 "nbformat": 4,
 "nbformat_minor": 2
}
