{
 "cells": [
  {
   "cell_type": "code",
   "execution_count": 4,
   "metadata": {},
   "outputs": [],
   "source": [
    "import cProfile\n",
    "import os\n",
    "import pstats\n",
    "import sys\n",
    "from pstats import SortKey\n",
    "\n",
    "import numpy as np\n",
    "import pandas as pd\n",
    "from river.decomposition import OnlineSVD, OnlineDMDwC\n",
    "from river.preprocessing import Hankelizer\n",
    "from river.utils import Rolling\n",
    "\n",
    "Rolling.learn_one = Rolling.update  # type: ignore\n",
    "sys.path.append(\"../\")\n",
    "\n",
    "from functions.chdsubid import SubIDChangeDetector  # noqa: E402\n",
    "from functions.datasets import load_cats  # noqa: E402\n",
    "from functions.metrics import chp_score  # noqa: E402\n",
    "from functions.plot import plot_chd  # noqa: E402\n",
    "from functions.preprocessing import hankel  # noqa: E402"
   ]
  },
  {
   "cell_type": "code",
   "execution_count": 5,
   "metadata": {},
   "outputs": [
    {
     "name": "stdout",
     "output_type": "stream",
     "text": [
      "The autoreload extension is already loaded. To reload it, use:\n",
      "  %reload_ext autoreload\n"
     ]
    }
   ],
   "source": [
    "%load_ext autoreload\n",
    "%autoreload 2"
   ]
  },
  {
   "cell_type": "code",
   "execution_count": 6,
   "metadata": {},
   "outputs": [],
   "source": [
    "# Read data\n",
    "df = load_cats(\"data/cats/data_1t_agg_last.csv\")\n",
    "df.index = pd.to_datetime(df.index)\n",
    "U = df[[\"aimp\", \"amud\", \"adbr\", \"adfl\"]]\n",
    "X = df[\n",
    "    [\n",
    "        \"bed1\",\n",
    "        \"bed2\",\n",
    "        \"bfo1\",\n",
    "        \"bfo2\",\n",
    "        \"bso1\",\n",
    "        \"bso2\",\n",
    "        \"bso3\",\n",
    "        \"ced1\",\n",
    "        \"cfo1\",\n",
    "        \"cso1\",\n",
    "    ]\n",
    "]\n",
    "Y_true = df.pop(\"y\")\n",
    "Y_cat = df.pop(\"category\")"
   ]
  },
  {
   "cell_type": "code",
   "execution_count": 7,
   "metadata": {},
   "outputs": [
    {
     "name": "stdout",
     "output_type": "stream",
     "text": [
      "Processed 2000/83334"
     ]
    },
    {
     "ename": "KeyboardInterrupt",
     "evalue": "",
     "output_type": "error",
     "traceback": [
      "\u001b[0;31m---------------------------------------------------------------------------\u001b[0m",
      "\u001b[0;31mKeyboardInterrupt\u001b[0m                         Traceback (most recent call last)",
      "Cell \u001b[0;32mIn[7], line 72\u001b[0m\n\u001b[1;32m     69\u001b[0m \u001b[38;5;28;01mif\u001b[39;00m (i \u001b[38;5;241m+\u001b[39m \u001b[38;5;241m1\u001b[39m) \u001b[38;5;241m%\u001b[39m \u001b[38;5;241m1000\u001b[39m \u001b[38;5;241m==\u001b[39m \u001b[38;5;241m0\u001b[39m:\n\u001b[1;32m     70\u001b[0m     \u001b[38;5;28mprint\u001b[39m(\u001b[38;5;124mf\u001b[39m\u001b[38;5;124m\"\u001b[39m\u001b[38;5;130;01m\\r\u001b[39;00m\u001b[38;5;124mProcessed \u001b[39m\u001b[38;5;132;01m{\u001b[39;00mi\u001b[38;5;250m \u001b[39m\u001b[38;5;241m+\u001b[39m\u001b[38;5;250m \u001b[39m\u001b[38;5;241m1\u001b[39m\u001b[38;5;132;01m}\u001b[39;00m\u001b[38;5;124m/\u001b[39m\u001b[38;5;132;01m{\u001b[39;00m\u001b[38;5;28mlen\u001b[39m(X)\u001b[38;5;132;01m}\u001b[39;00m\u001b[38;5;124m\"\u001b[39m, end\u001b[38;5;241m=\u001b[39m\u001b[38;5;124m\"\u001b[39m\u001b[38;5;124m\"\u001b[39m)\n\u001b[0;32m---> 72\u001b[0m \u001b[43mpipeline_dmd\u001b[49m\u001b[38;5;241;43m.\u001b[39;49m\u001b[43mlearn_one\u001b[49m\u001b[43m(\u001b[49m\u001b[43mx\u001b[49m\u001b[38;5;241;43m.\u001b[39;49m\u001b[43mto_dict\u001b[49m\u001b[43m(\u001b[49m\u001b[43m)\u001b[49m\u001b[43m,\u001b[49m\u001b[43m \u001b[49m\u001b[38;5;241;43m*\u001b[39;49m\u001b[38;5;241;43m*\u001b[39;49m\u001b[43m{\u001b[49m\u001b[38;5;124;43m\"\u001b[39;49m\u001b[38;5;124;43mu\u001b[39;49m\u001b[38;5;124;43m\"\u001b[39;49m\u001b[43m:\u001b[49m\u001b[43m \u001b[49m\u001b[43mu\u001b[49m\u001b[38;5;241;43m.\u001b[39;49m\u001b[43mto_dict\u001b[49m\u001b[43m(\u001b[49m\u001b[43m)\u001b[49m\u001b[43m}\u001b[49m\u001b[43m)\u001b[49m\n\u001b[1;32m     73\u001b[0m \u001b[38;5;66;03m# pipeline_svd.learn_one(x.to_dict())\u001b[39;00m\n\u001b[1;32m     75\u001b[0m scores_dmd[i] \u001b[38;5;241m=\u001b[39m subid_dmd\u001b[38;5;241m.\u001b[39mscore\n",
      "File \u001b[0;32m~/pyprojects/river/river/compose/pipeline.py:478\u001b[0m, in \u001b[0;36mPipeline.learn_one\u001b[0;34m(self, x, y, **params)\u001b[0m\n\u001b[1;32m    474\u001b[0m     step\u001b[38;5;241m.\u001b[39mlearn_one(x\u001b[38;5;241m=\u001b[39mx, y\u001b[38;5;241m=\u001b[39my, \u001b[38;5;241m*\u001b[39m\u001b[38;5;241m*\u001b[39mparams)\n\u001b[1;32m    475\u001b[0m \u001b[38;5;66;03m# Here the step is not a transformer, and it's unsupervised, such as a KMeans. This\u001b[39;00m\n\u001b[1;32m    476\u001b[0m \u001b[38;5;66;03m# is also usually the last step of the pipeline.\u001b[39;00m\n\u001b[1;32m    477\u001b[0m \u001b[38;5;28;01melse\u001b[39;00m:\n\u001b[0;32m--> 478\u001b[0m     \u001b[43mstep\u001b[49m\u001b[38;5;241;43m.\u001b[39;49m\u001b[43mlearn_one\u001b[49m\u001b[43m(\u001b[49m\u001b[43mx\u001b[49m\u001b[38;5;241;43m=\u001b[39;49m\u001b[43mx\u001b[49m\u001b[43m,\u001b[49m\u001b[43m \u001b[49m\u001b[38;5;241;43m*\u001b[39;49m\u001b[38;5;241;43m*\u001b[39;49m\u001b[43mparams\u001b[49m\u001b[43m)\u001b[49m\n",
      "File \u001b[0;32m~/pyprojects/odmd-subid-cpd/examples/../functions/chdsubid.py:155\u001b[0m, in \u001b[0;36mSubIDChangeDetector.learn_one\u001b[0;34m(self, x, **params)\u001b[0m\n\u001b[1;32m    153\u001b[0m \u001b[38;5;28;01mdef\u001b[39;00m \u001b[38;5;21mlearn_one\u001b[39m(\u001b[38;5;28mself\u001b[39m, x: \u001b[38;5;28mdict\u001b[39m, \u001b[38;5;241m*\u001b[39m\u001b[38;5;241m*\u001b[39mparams) \u001b[38;5;241m-\u001b[39m\u001b[38;5;241m>\u001b[39m \u001b[38;5;28;01mNone\u001b[39;00m:\n\u001b[1;32m    154\u001b[0m \u001b[38;5;250m    \u001b[39m\u001b[38;5;124;03m\"\"\"Allias for update method for interoperability with Pipeline.\"\"\"\u001b[39;00m\n\u001b[0;32m--> 155\u001b[0m     \u001b[38;5;28;43mself\u001b[39;49m\u001b[38;5;241;43m.\u001b[39;49m\u001b[43mupdate\u001b[49m\u001b[43m(\u001b[49m\u001b[43mx\u001b[49m\u001b[43m,\u001b[49m\u001b[43m \u001b[49m\u001b[38;5;241;43m*\u001b[39;49m\u001b[38;5;241;43m*\u001b[39;49m\u001b[43mparams\u001b[49m\u001b[43m)\u001b[49m\n",
      "File \u001b[0;32m~/pyprojects/odmd-subid-cpd/examples/../functions/chdsubid.py:106\u001b[0m, in \u001b[0;36mSubIDChangeDetector.update\u001b[0;34m(self, x, **params)\u001b[0m\n\u001b[1;32m    102\u001b[0m \u001b[38;5;28;01mif\u001b[39;00m \u001b[38;5;28mlen\u001b[39m(\u001b[38;5;28mself\u001b[39m\u001b[38;5;241m.\u001b[39m_X) \u001b[38;5;241m>\u001b[39m ref_delay \u001b[38;5;129;01mand\u001b[39;00m (\n\u001b[1;32m    103\u001b[0m     \u001b[38;5;28mself\u001b[39m\u001b[38;5;241m.\u001b[39mlearn_after_grace \u001b[38;5;129;01mor\u001b[39;00m \u001b[38;5;28mself\u001b[39m\u001b[38;5;241m.\u001b[39mn_seen \u001b[38;5;241m<\u001b[39m \u001b[38;5;28mself\u001b[39m\u001b[38;5;241m.\u001b[39mgrace_period\n\u001b[1;32m    104\u001b[0m ):\n\u001b[1;32m    105\u001b[0m     \u001b[38;5;28;01mif\u001b[39;00m \u001b[38;5;28misinstance\u001b[39m(\u001b[38;5;28mself\u001b[39m\u001b[38;5;241m.\u001b[39msubid, BaseRolling):\n\u001b[0;32m--> 106\u001b[0m         \u001b[38;5;28;43mself\u001b[39;49m\u001b[38;5;241;43m.\u001b[39;49m\u001b[43msubid\u001b[49m\u001b[38;5;241;43m.\u001b[39;49m\u001b[43mupdate\u001b[49m\u001b[43m(\u001b[49m\u001b[38;5;28;43mself\u001b[39;49m\u001b[38;5;241;43m.\u001b[39;49m\u001b[43m_X\u001b[49m\u001b[43m[\u001b[49m\u001b[38;5;241;43m-\u001b[39;49m\u001b[43mref_delay\u001b[49m\u001b[43m \u001b[49m\u001b[38;5;241;43m-\u001b[39;49m\u001b[43m \u001b[49m\u001b[38;5;241;43m1\u001b[39;49m\u001b[43m]\u001b[49m\u001b[43m,\u001b[49m\u001b[43m \u001b[49m\u001b[38;5;241;43m*\u001b[39;49m\u001b[38;5;241;43m*\u001b[39;49m\u001b[43mparams\u001b[49m\u001b[43m)\u001b[49m\n\u001b[1;32m    107\u001b[0m     \u001b[38;5;28;01melse\u001b[39;00m:\n\u001b[1;32m    108\u001b[0m         \u001b[38;5;28mself\u001b[39m\u001b[38;5;241m.\u001b[39msubid\u001b[38;5;241m.\u001b[39mlearn_one(\u001b[38;5;28mself\u001b[39m\u001b[38;5;241m.\u001b[39m_X[\u001b[38;5;241m-\u001b[39mref_delay \u001b[38;5;241m-\u001b[39m \u001b[38;5;241m1\u001b[39m], \u001b[38;5;241m*\u001b[39m\u001b[38;5;241m*\u001b[39mparams)\n",
      "File \u001b[0;32m~/pyprojects/river/river/utils/rolling.py:83\u001b[0m, in \u001b[0;36mRolling.update\u001b[0;34m(self, *args, **kwargs)\u001b[0m\n\u001b[1;32m     81\u001b[0m \u001b[38;5;28;01mif\u001b[39;00m \u001b[38;5;28mlen\u001b[39m(\u001b[38;5;28mself\u001b[39m\u001b[38;5;241m.\u001b[39mwindow) \u001b[38;5;241m==\u001b[39m \u001b[38;5;28mself\u001b[39m\u001b[38;5;241m.\u001b[39mwindow_size:\n\u001b[1;32m     82\u001b[0m     \u001b[38;5;28mself\u001b[39m\u001b[38;5;241m.\u001b[39mobj\u001b[38;5;241m.\u001b[39mrevert(\u001b[38;5;241m*\u001b[39m\u001b[38;5;28mself\u001b[39m\u001b[38;5;241m.\u001b[39mwindow[\u001b[38;5;241m0\u001b[39m][\u001b[38;5;241m0\u001b[39m], \u001b[38;5;241m*\u001b[39m\u001b[38;5;241m*\u001b[39m\u001b[38;5;28mself\u001b[39m\u001b[38;5;241m.\u001b[39mwindow[\u001b[38;5;241m0\u001b[39m][\u001b[38;5;241m1\u001b[39m])\n\u001b[0;32m---> 83\u001b[0m \u001b[38;5;28;43mself\u001b[39;49m\u001b[38;5;241;43m.\u001b[39;49m\u001b[43mobj\u001b[49m\u001b[38;5;241;43m.\u001b[39;49m\u001b[43mupdate\u001b[49m\u001b[43m(\u001b[49m\u001b[38;5;241;43m*\u001b[39;49m\u001b[43margs\u001b[49m\u001b[43m,\u001b[49m\u001b[43m \u001b[49m\u001b[38;5;241;43m*\u001b[39;49m\u001b[38;5;241;43m*\u001b[39;49m\u001b[43mkwargs\u001b[49m\u001b[43m)\u001b[49m\n\u001b[1;32m     84\u001b[0m \u001b[38;5;28mself\u001b[39m\u001b[38;5;241m.\u001b[39mwindow\u001b[38;5;241m.\u001b[39mappend((args, kwargs))\n",
      "File \u001b[0;32m~/pyprojects/river/river/decomposition/odmd.py:1004\u001b[0m, in \u001b[0;36mOnlineDMDwC.update\u001b[0;34m(self, x, y, u)\u001b[0m\n\u001b[1;32m   1002\u001b[0m         \u001b[38;5;28;01mif\u001b[39;00m \u001b[38;5;28mself\u001b[39m\u001b[38;5;241m.\u001b[39mB \u001b[38;5;129;01mis\u001b[39;00m \u001b[38;5;129;01mnot\u001b[39;00m \u001b[38;5;28;01mNone\u001b[39;00m:  \u001b[38;5;66;03m# For correct type hinting\u001b[39;00m\n\u001b[1;32m   1003\u001b[0m             \u001b[38;5;28mself\u001b[39m\u001b[38;5;241m.\u001b[39mA \u001b[38;5;241m=\u001b[39m np\u001b[38;5;241m.\u001b[39mcolumn_stack((\u001b[38;5;28mself\u001b[39m\u001b[38;5;241m.\u001b[39mA, \u001b[38;5;28mself\u001b[39m\u001b[38;5;241m.\u001b[39mB))\n\u001b[0;32m-> 1004\u001b[0m     \u001b[38;5;28;43msuper\u001b[39;49m\u001b[43m(\u001b[49m\u001b[43m)\u001b[49m\u001b[38;5;241;43m.\u001b[39;49m\u001b[43mupdate\u001b[49m\u001b[43m(\u001b[49m\u001b[43mx\u001b[49m\u001b[43m,\u001b[49m\u001b[43m \u001b[49m\u001b[43my\u001b[49m\u001b[43m)\u001b[49m\n\u001b[1;32m   1006\u001b[0m \u001b[38;5;66;03m# In case that learn_many was called, A is already square\u001b[39;00m\n\u001b[1;32m   1007\u001b[0m \u001b[38;5;28;01mif\u001b[39;00m \u001b[38;5;28mself\u001b[39m\u001b[38;5;241m.\u001b[39mA\u001b[38;5;241m.\u001b[39mshape[\u001b[38;5;241m0\u001b[39m] \u001b[38;5;241m<\u001b[39m \u001b[38;5;28mself\u001b[39m\u001b[38;5;241m.\u001b[39mA\u001b[38;5;241m.\u001b[39mshape[\u001b[38;5;241m1\u001b[39m]:\n",
      "File \u001b[0;32m~/pyprojects/river/river/decomposition/odmd.py:401\u001b[0m, in \u001b[0;36mOnlineDMD.update\u001b[0;34m(self, x, y)\u001b[0m\n\u001b[1;32m    399\u001b[0m         \u001b[38;5;28mself\u001b[39m\u001b[38;5;241m.\u001b[39m_P \u001b[38;5;241m=\u001b[39m alpha \u001b[38;5;241m*\u001b[39m np\u001b[38;5;241m.\u001b[39midentity(\u001b[38;5;28mself\u001b[39m\u001b[38;5;241m.\u001b[39mr)\n\u001b[1;32m    400\u001b[0m     \u001b[38;5;28;01mif\u001b[39;00m \u001b[38;5;28mself\u001b[39m\u001b[38;5;241m.\u001b[39mr \u001b[38;5;241m<\u001b[39m \u001b[38;5;28mself\u001b[39m\u001b[38;5;241m.\u001b[39mm:\n\u001b[0;32m--> 401\u001b[0m         x_, y_ \u001b[38;5;241m=\u001b[39m \u001b[38;5;28;43mself\u001b[39;49m\u001b[38;5;241;43m.\u001b[39;49m\u001b[43m_truncate_w_svd\u001b[49m\u001b[43m(\u001b[49m\u001b[43mx_\u001b[49m\u001b[43m,\u001b[49m\u001b[43m \u001b[49m\u001b[43my_\u001b[49m\u001b[43m,\u001b[49m\u001b[43m \u001b[49m\u001b[43msvd_modify\u001b[49m\u001b[38;5;241;43m=\u001b[39;49m\u001b[38;5;124;43m\"\u001b[39;49m\u001b[38;5;124;43mupdate\u001b[39;49m\u001b[38;5;124;43m\"\u001b[39;49m\u001b[43m)\u001b[49m\n\u001b[1;32m    403\u001b[0m     \u001b[38;5;28mself\u001b[39m\u001b[38;5;241m.\u001b[39m_update_A_P(x_, y_, \u001b[38;5;241m1.0\u001b[39m)\n\u001b[1;32m    405\u001b[0m \u001b[38;5;28mself\u001b[39m\u001b[38;5;241m.\u001b[39mn_seen \u001b[38;5;241m+\u001b[39m\u001b[38;5;241m=\u001b[39m \u001b[38;5;241m1\u001b[39m\n",
      "File \u001b[0;32m~/pyprojects/river/river/decomposition/odmd.py:293\u001b[0m, in \u001b[0;36mOnlineDMD._truncate_w_svd\u001b[0;34m(self, x, y, svd_modify)\u001b[0m\n\u001b[1;32m    291\u001b[0m U_prev \u001b[38;5;241m=\u001b[39m \u001b[38;5;28mself\u001b[39m\u001b[38;5;241m.\u001b[39m_svd\u001b[38;5;241m.\u001b[39m_U\n\u001b[1;32m    292\u001b[0m \u001b[38;5;28;01mif\u001b[39;00m svd_modify \u001b[38;5;241m==\u001b[39m \u001b[38;5;124m\"\u001b[39m\u001b[38;5;124mupdate\u001b[39m\u001b[38;5;124m\"\u001b[39m:\n\u001b[0;32m--> 293\u001b[0m     \u001b[38;5;28;43mself\u001b[39;49m\u001b[38;5;241;43m.\u001b[39;49m\u001b[43m_svd\u001b[49m\u001b[38;5;241;43m.\u001b[39;49m\u001b[43mupdate\u001b[49m\u001b[43m(\u001b[49m\u001b[43mx\u001b[49m\u001b[43m)\u001b[49m\n\u001b[1;32m    294\u001b[0m \u001b[38;5;28;01melif\u001b[39;00m svd_modify \u001b[38;5;241m==\u001b[39m \u001b[38;5;124m\"\u001b[39m\u001b[38;5;124mrevert\u001b[39m\u001b[38;5;124m\"\u001b[39m:\n\u001b[1;32m    295\u001b[0m     \u001b[38;5;28mself\u001b[39m\u001b[38;5;241m.\u001b[39m_svd\u001b[38;5;241m.\u001b[39mrevert(x)\n",
      "File \u001b[0;32m~/pyprojects/river/river/decomposition/osvd.py:236\u001b[0m, in \u001b[0;36mOnlineSVD.update\u001b[0;34m(self, x)\u001b[0m\n\u001b[1;32m    233\u001b[0m K \u001b[38;5;241m=\u001b[39m np\u001b[38;5;241m.\u001b[39mblock([[np\u001b[38;5;241m.\u001b[39mdiag(\u001b[38;5;28mself\u001b[39m\u001b[38;5;241m.\u001b[39m_S), m], [z, Ra]])\n\u001b[1;32m    235\u001b[0m \u001b[38;5;28;01mif\u001b[39;00m \u001b[38;5;241m0\u001b[39m \u001b[38;5;241m<\u001b[39m \u001b[38;5;28mself\u001b[39m\u001b[38;5;241m.\u001b[39mn_components \u001b[38;5;129;01mand\u001b[39;00m \u001b[38;5;28mself\u001b[39m\u001b[38;5;241m.\u001b[39mn_components \u001b[38;5;241m<\u001b[39m \u001b[38;5;28mmin\u001b[39m(K\u001b[38;5;241m.\u001b[39mshape):\n\u001b[0;32m--> 236\u001b[0m     U_, Sigma_, V_ \u001b[38;5;241m=\u001b[39m \u001b[43msp\u001b[49m\u001b[38;5;241;43m.\u001b[39;49m\u001b[43msparse\u001b[49m\u001b[38;5;241;43m.\u001b[39;49m\u001b[43mlinalg\u001b[49m\u001b[38;5;241;43m.\u001b[39;49m\u001b[43msvds\u001b[49m\u001b[43m(\u001b[49m\u001b[43mK\u001b[49m\u001b[43m,\u001b[49m\u001b[43m \u001b[49m\u001b[43mk\u001b[49m\u001b[38;5;241;43m=\u001b[39;49m\u001b[38;5;28;43mself\u001b[39;49m\u001b[38;5;241;43m.\u001b[39;49m\u001b[43mn_components\u001b[49m\u001b[43m)\u001b[49m\n\u001b[1;32m    237\u001b[0m     U_, Sigma_, V_ \u001b[38;5;241m=\u001b[39m \u001b[38;5;28mself\u001b[39m\u001b[38;5;241m.\u001b[39m_sort_svd(U_, Sigma_, V_)\n\u001b[1;32m    238\u001b[0m \u001b[38;5;28;01melse\u001b[39;00m:\n",
      "File \u001b[0;32m~/pyprojects/odmd-subid-cpd/.venv/lib/python3.12/site-packages/scipy/sparse/linalg/_eigen/_svds.py:443\u001b[0m, in \u001b[0;36msvds\u001b[0;34m(A, k, ncv, tol, which, v0, maxiter, return_singular_vectors, solver, random_state, options)\u001b[0m\n\u001b[1;32m    104\u001b[0m \u001b[38;5;28;01mdef\u001b[39;00m \u001b[38;5;21msvds\u001b[39m(A, k\u001b[38;5;241m=\u001b[39m\u001b[38;5;241m6\u001b[39m, ncv\u001b[38;5;241m=\u001b[39m\u001b[38;5;28;01mNone\u001b[39;00m, tol\u001b[38;5;241m=\u001b[39m\u001b[38;5;241m0\u001b[39m, which\u001b[38;5;241m=\u001b[39m\u001b[38;5;124m'\u001b[39m\u001b[38;5;124mLM\u001b[39m\u001b[38;5;124m'\u001b[39m, v0\u001b[38;5;241m=\u001b[39m\u001b[38;5;28;01mNone\u001b[39;00m,\n\u001b[1;32m    105\u001b[0m          maxiter\u001b[38;5;241m=\u001b[39m\u001b[38;5;28;01mNone\u001b[39;00m, return_singular_vectors\u001b[38;5;241m=\u001b[39m\u001b[38;5;28;01mTrue\u001b[39;00m,\n\u001b[1;32m    106\u001b[0m          solver\u001b[38;5;241m=\u001b[39m\u001b[38;5;124m'\u001b[39m\u001b[38;5;124marpack\u001b[39m\u001b[38;5;124m'\u001b[39m, random_state\u001b[38;5;241m=\u001b[39m\u001b[38;5;28;01mNone\u001b[39;00m, options\u001b[38;5;241m=\u001b[39m\u001b[38;5;28;01mNone\u001b[39;00m):\n\u001b[1;32m    107\u001b[0m \u001b[38;5;250m    \u001b[39m\u001b[38;5;124;03m\"\"\"\u001b[39;00m\n\u001b[1;32m    108\u001b[0m \u001b[38;5;124;03m    Partial singular value decomposition of a sparse matrix.\u001b[39;00m\n\u001b[1;32m    109\u001b[0m \n\u001b[0;32m   (...)\u001b[0m\n\u001b[1;32m    441\u001b[0m \n\u001b[1;32m    442\u001b[0m \u001b[38;5;124;03m    \"\"\"\u001b[39;00m\n\u001b[0;32m--> 443\u001b[0m     args \u001b[38;5;241m=\u001b[39m \u001b[43m_iv\u001b[49m\u001b[43m(\u001b[49m\u001b[43mA\u001b[49m\u001b[43m,\u001b[49m\u001b[43m \u001b[49m\u001b[43mk\u001b[49m\u001b[43m,\u001b[49m\u001b[43m \u001b[49m\u001b[43mncv\u001b[49m\u001b[43m,\u001b[49m\u001b[43m \u001b[49m\u001b[43mtol\u001b[49m\u001b[43m,\u001b[49m\u001b[43m \u001b[49m\u001b[43mwhich\u001b[49m\u001b[43m,\u001b[49m\u001b[43m \u001b[49m\u001b[43mv0\u001b[49m\u001b[43m,\u001b[49m\u001b[43m \u001b[49m\u001b[43mmaxiter\u001b[49m\u001b[43m,\u001b[49m\u001b[43m \u001b[49m\u001b[43mreturn_singular_vectors\u001b[49m\u001b[43m,\u001b[49m\n\u001b[1;32m    444\u001b[0m \u001b[43m               \u001b[49m\u001b[43msolver\u001b[49m\u001b[43m,\u001b[49m\u001b[43m \u001b[49m\u001b[43mrandom_state\u001b[49m\u001b[43m)\u001b[49m\n\u001b[1;32m    445\u001b[0m     (A, k, ncv, tol, which, v0, maxiter,\n\u001b[1;32m    446\u001b[0m      return_singular_vectors, solver, random_state) \u001b[38;5;241m=\u001b[39m args\n\u001b[1;32m    448\u001b[0m     largest \u001b[38;5;241m=\u001b[39m (which \u001b[38;5;241m==\u001b[39m \u001b[38;5;124m'\u001b[39m\u001b[38;5;124mLM\u001b[39m\u001b[38;5;124m'\u001b[39m)\n",
      "File \u001b[0;32m~/pyprojects/odmd-subid-cpd/.venv/lib/python3.12/site-packages/scipy/sparse/linalg/_eigen/_svds.py:41\u001b[0m, in \u001b[0;36m_iv\u001b[0;34m(A, k, ncv, tol, which, v0, maxiter, return_singular, solver, random_state)\u001b[0m\n\u001b[1;32m     39\u001b[0m     message \u001b[38;5;241m=\u001b[39m \u001b[38;5;124m\"\u001b[39m\u001b[38;5;124m`A` must be of floating or complex floating data type.\u001b[39m\u001b[38;5;124m\"\u001b[39m\n\u001b[1;32m     40\u001b[0m     \u001b[38;5;28;01mraise\u001b[39;00m \u001b[38;5;167;01mValueError\u001b[39;00m(message)\n\u001b[0;32m---> 41\u001b[0m \u001b[38;5;28;01mif\u001b[39;00m \u001b[43mnp\u001b[49m\u001b[38;5;241;43m.\u001b[39;49m\u001b[43mprod\u001b[49m\u001b[43m(\u001b[49m\u001b[43mA\u001b[49m\u001b[38;5;241;43m.\u001b[39;49m\u001b[43mshape\u001b[49m\u001b[43m)\u001b[49m \u001b[38;5;241m==\u001b[39m \u001b[38;5;241m0\u001b[39m:\n\u001b[1;32m     42\u001b[0m     message \u001b[38;5;241m=\u001b[39m \u001b[38;5;124m\"\u001b[39m\u001b[38;5;124m`A` must not be empty.\u001b[39m\u001b[38;5;124m\"\u001b[39m\n\u001b[1;32m     43\u001b[0m     \u001b[38;5;28;01mraise\u001b[39;00m \u001b[38;5;167;01mValueError\u001b[39;00m(message)\n",
      "File \u001b[0;32m~/pyprojects/odmd-subid-cpd/.venv/lib/python3.12/site-packages/numpy/core/fromnumeric.py:3100\u001b[0m, in \u001b[0;36mprod\u001b[0;34m(a, axis, dtype, out, keepdims, initial, where)\u001b[0m\n\u001b[1;32m   2979\u001b[0m \u001b[38;5;129m@array_function_dispatch\u001b[39m(_prod_dispatcher)\n\u001b[1;32m   2980\u001b[0m \u001b[38;5;28;01mdef\u001b[39;00m \u001b[38;5;21mprod\u001b[39m(a, axis\u001b[38;5;241m=\u001b[39m\u001b[38;5;28;01mNone\u001b[39;00m, dtype\u001b[38;5;241m=\u001b[39m\u001b[38;5;28;01mNone\u001b[39;00m, out\u001b[38;5;241m=\u001b[39m\u001b[38;5;28;01mNone\u001b[39;00m, keepdims\u001b[38;5;241m=\u001b[39mnp\u001b[38;5;241m.\u001b[39m_NoValue,\n\u001b[1;32m   2981\u001b[0m          initial\u001b[38;5;241m=\u001b[39mnp\u001b[38;5;241m.\u001b[39m_NoValue, where\u001b[38;5;241m=\u001b[39mnp\u001b[38;5;241m.\u001b[39m_NoValue):\n\u001b[1;32m   2982\u001b[0m \u001b[38;5;250m    \u001b[39m\u001b[38;5;124;03m\"\"\"\u001b[39;00m\n\u001b[1;32m   2983\u001b[0m \u001b[38;5;124;03m    Return the product of array elements over a given axis.\u001b[39;00m\n\u001b[1;32m   2984\u001b[0m \n\u001b[0;32m   (...)\u001b[0m\n\u001b[1;32m   3098\u001b[0m \u001b[38;5;124;03m    10\u001b[39;00m\n\u001b[1;32m   3099\u001b[0m \u001b[38;5;124;03m    \"\"\"\u001b[39;00m\n\u001b[0;32m-> 3100\u001b[0m     \u001b[38;5;28;01mreturn\u001b[39;00m \u001b[43m_wrapreduction\u001b[49m\u001b[43m(\u001b[49m\u001b[43ma\u001b[49m\u001b[43m,\u001b[49m\u001b[43m \u001b[49m\u001b[43mnp\u001b[49m\u001b[38;5;241;43m.\u001b[39;49m\u001b[43mmultiply\u001b[49m\u001b[43m,\u001b[49m\u001b[43m \u001b[49m\u001b[38;5;124;43m'\u001b[39;49m\u001b[38;5;124;43mprod\u001b[39;49m\u001b[38;5;124;43m'\u001b[39;49m\u001b[43m,\u001b[49m\u001b[43m \u001b[49m\u001b[43maxis\u001b[49m\u001b[43m,\u001b[49m\u001b[43m \u001b[49m\u001b[43mdtype\u001b[49m\u001b[43m,\u001b[49m\u001b[43m \u001b[49m\u001b[43mout\u001b[49m\u001b[43m,\u001b[49m\n\u001b[1;32m   3101\u001b[0m \u001b[43m                          \u001b[49m\u001b[43mkeepdims\u001b[49m\u001b[38;5;241;43m=\u001b[39;49m\u001b[43mkeepdims\u001b[49m\u001b[43m,\u001b[49m\u001b[43m \u001b[49m\u001b[43minitial\u001b[49m\u001b[38;5;241;43m=\u001b[39;49m\u001b[43minitial\u001b[49m\u001b[43m,\u001b[49m\u001b[43m \u001b[49m\u001b[43mwhere\u001b[49m\u001b[38;5;241;43m=\u001b[39;49m\u001b[43mwhere\u001b[49m\u001b[43m)\u001b[49m\n",
      "File \u001b[0;32m~/pyprojects/odmd-subid-cpd/.venv/lib/python3.12/site-packages/numpy/core/fromnumeric.py:88\u001b[0m, in \u001b[0;36m_wrapreduction\u001b[0;34m(obj, ufunc, method, axis, dtype, out, **kwargs)\u001b[0m\n\u001b[1;32m     85\u001b[0m         \u001b[38;5;28;01melse\u001b[39;00m:\n\u001b[1;32m     86\u001b[0m             \u001b[38;5;28;01mreturn\u001b[39;00m reduction(axis\u001b[38;5;241m=\u001b[39maxis, out\u001b[38;5;241m=\u001b[39mout, \u001b[38;5;241m*\u001b[39m\u001b[38;5;241m*\u001b[39mpasskwargs)\n\u001b[0;32m---> 88\u001b[0m \u001b[38;5;28;01mreturn\u001b[39;00m \u001b[43mufunc\u001b[49m\u001b[38;5;241;43m.\u001b[39;49m\u001b[43mreduce\u001b[49m\u001b[43m(\u001b[49m\u001b[43mobj\u001b[49m\u001b[43m,\u001b[49m\u001b[43m \u001b[49m\u001b[43maxis\u001b[49m\u001b[43m,\u001b[49m\u001b[43m \u001b[49m\u001b[43mdtype\u001b[49m\u001b[43m,\u001b[49m\u001b[43m \u001b[49m\u001b[43mout\u001b[49m\u001b[43m,\u001b[49m\u001b[43m \u001b[49m\u001b[38;5;241;43m*\u001b[39;49m\u001b[38;5;241;43m*\u001b[39;49m\u001b[43mpasskwargs\u001b[49m\u001b[43m)\u001b[49m\n",
      "\u001b[0;31mKeyboardInterrupt\u001b[0m: "
     ]
    }
   ],
   "source": [
    "# [donotremove]\n",
    "# TODO: enable hankelization of us on the fly\n",
    "hu = 1\n",
    "U_ = hankel(U, hn=hu)\n",
    "\n",
    "# Initialize Hankelizer\n",
    "hn = 2\n",
    "hankelizer = Hankelizer(hn)\n",
    "\n",
    "# Initialize Transformer\n",
    "p = 1\n",
    "q = 1\n",
    "init_size = 500\n",
    "odmd = Rolling(\n",
    "    OnlineDMDwC(\n",
    "        p=p,\n",
    "        q=q,\n",
    "        initialize=init_size,\n",
    "        w=1.0,\n",
    "        exponential_weighting=False,\n",
    "        eig_rtol=1e-3,\n",
    "    ),\n",
    "    init_size + 1,\n",
    ")\n",
    "window_size = init_size + 1\n",
    "osvd = Rolling(\n",
    "    OnlineSVD(\n",
    "        n_components=p,\n",
    "        initialize=init_size,\n",
    "    ),\n",
    "    init_size + 1,\n",
    ")\n",
    "\n",
    "# Initialize Change-Point Detector\n",
    "ref_size = init_size\n",
    "test_size = init_size\n",
    "subid_dmd = SubIDChangeDetector(\n",
    "    odmd,\n",
    "    ref_size=ref_size,\n",
    "    test_size=test_size,\n",
    "    grace_period=init_size + test_size + 1,\n",
    ")\n",
    "subid_svd = SubIDChangeDetector(\n",
    "    osvd,\n",
    "    ref_size=ref_size,\n",
    "    test_size=test_size,\n",
    "    grace_period=init_size + test_size + 1,\n",
    ")\n",
    "\n",
    "# Build pipeline\n",
    "pipeline_dmd = hankelizer | subid_dmd\n",
    "pipeline_svd = Hankelizer(hn) | subid_svd\n",
    "\n",
    "# Prepare arrays for storing results\n",
    "scores_dmd = np.zeros(X.shape[0], dtype=float)\n",
    "# scores_svd = np.zeros(X.shape[0], dtype=float)\n",
    "scores_dmd_diff = np.zeros(X.shape[0], dtype=complex)\n",
    "dist = np.zeros((X.shape[0], 2), dtype=complex)\n",
    "modes = np.empty((X.shape[0], hn * X.shape[1], p), dtype=complex)\n",
    "\n",
    "# Run pipeline\n",
    "for i, ((t, x), (t, u)) in enumerate(\n",
    "    zip(\n",
    "        X.iterrows(),\n",
    "        U_.iterrows(),\n",
    "    )\n",
    "):\n",
    "    # print every 1000\n",
    "    if (i + 1) % 1000 == 0:\n",
    "        print(f\"\\rProcessed {i + 1}/{len(X)}\", end=\"\")\n",
    "\n",
    "    pipeline_dmd.learn_one(x.to_dict(), **{\"u\": u.to_dict()})\n",
    "    # pipeline_svd.learn_one(x.to_dict())\n",
    "\n",
    "    scores_dmd[i] = subid_dmd.score\n",
    "    # scores_svd[i] = subid_svd.score\n",
    "    if hasattr(subid_dmd.subid, \"modes\"):\n",
    "        modes[i, :, :] = odmd.modes\n",
    "    if hasattr(subid_dmd, \"distances\"):\n",
    "        dist[i, :] = subid_dmd.distances\n",
    "\n",
    "    scores_dmd_diff[i] = dist[i, 1] - dist[i, 0]\n",
    "\n",
    "# Plot results\n",
    "X_ = df.values\n",
    "Y_ = Y_true.values\n",
    "fig, axs = plot_chd(\n",
    "    [X_, scores_dmd.real, scores_dmd_diff.real],\n",
    "    np.where(Y_ == 1)[0],\n",
    "    labels=[\"X\", \"DMD\", \"DMD_diff\", \"SVD\"],\n",
    "    idx_in_start=30000,\n",
    "    idx_in_end=40000,\n",
    "    grace_period=test_size,\n",
    ")\n",
    "fig_name = (\n",
    "    f\"results/.cats/cats-chd_p{p}_q{q}-\"\n",
    "    f\"{f'roll_{odmd.window_size}' if isinstance(odmd, Rolling) else 'noroll'}-\"\n",
    "    f\"dmd_w{odmd.w}-hx{hn}-hu{hu}-imag.png\"\n",
    ")\n",
    "fig.set_size_inches(18, 10)  # Set the size of the figure\n",
    "os.makedirs(os.path.dirname(fig_name), exist_ok=True)\n",
    "fig.savefig(fig_name)"
   ]
  },
  {
   "cell_type": "code",
   "execution_count": 353,
   "metadata": {},
   "outputs": [],
   "source": [
    "pred_shift = 1\n",
    "y_true = pd.Series(Y_[:-pred_shift])\n",
    "y_true.index = pd.to_datetime(y_true.index, unit=\"s\")\n",
    "\n",
    "y_pred = pd.Series(scores_dmd[pred_shift:] > 0.05)\n",
    "y_pred.index = pd.to_datetime(y_pred.index, unit=\"s\")"
   ]
  },
  {
   "cell_type": "code",
   "execution_count": 354,
   "metadata": {},
   "outputs": [
    {
     "name": "stdout",
     "output_type": "stream",
     "text": [
      "False Alarm Rate 38.61 %\n",
      "Missing Alarm Rate 55.05 %\n",
      "F1 metric 0.08\n"
     ]
    }
   ],
   "source": [
    "binary = chp_score(y_true, y_pred, metric=\"binary\")"
   ]
  },
  {
   "cell_type": "code",
   "execution_count": 355,
   "metadata": {},
   "outputs": [
    {
     "name": "stdout",
     "output_type": "stream",
     "text": [
      "Amount of true anomalies 3181\n",
      "A number of missed CPs = 1663\n",
      "A number of FPs = 8783\n",
      "Average time 0 days 00:00:04.284584980\n"
     ]
    }
   ],
   "source": [
    "# average detection delay metric calculation\n",
    "add = chp_score(\n",
    "    y_true,\n",
    "    y_pred,\n",
    "    metric=\"average_time\",\n",
    "    window_width=f\"{init_size}s\",\n",
    "    anomaly_window_destination=\"righter\",\n",
    "    portion=1,\n",
    ")"
   ]
  },
  {
   "cell_type": "code",
   "execution_count": 356,
   "metadata": {},
   "outputs": [
    {
     "name": "stdout",
     "output_type": "stream",
     "text": [
      "Standard  -  32.03\n",
      "LowFP  -  16.8\n",
      "LowFN  -  37.26\n"
     ]
    }
   ],
   "source": [
    "# nab metric calculation\n",
    "nab = chp_score(\n",
    "    y_true,\n",
    "    y_pred,\n",
    "    metric=\"nab\",\n",
    "    window_width=f\"{init_size}s\",\n",
    "    anomaly_window_destination=\"righter\",\n",
    ")"
   ]
  },
  {
   "cell_type": "markdown",
   "metadata": {},
   "source": [
    "# Time Profiling to Reveal the Main Bottlenecks"
   ]
  },
  {
   "cell_type": "code",
   "execution_count": 9,
   "metadata": {},
   "outputs": [
    {
     "name": "stdout",
     "output_type": "stream",
     "text": [
      "Processed 83000/83334"
     ]
    }
   ],
   "source": [
    "def simulate():\n",
    "    # Initialize Hankelizer\n",
    "    hn = 1\n",
    "    hankelizer = Hankelizer(hn)\n",
    "\n",
    "    # Initialize Transformer\n",
    "    r = 2\n",
    "    init_size = 300\n",
    "    odmd = Rolling(\n",
    "        OnlineDMDwC(\n",
    "            p=r,\n",
    "            q=4,\n",
    "            initialize=init_size,\n",
    "            w=1.0,\n",
    "            exponential_weighting=False,\n",
    "            eig_rtol=1e-1,\n",
    "        ),\n",
    "        init_size + 1,\n",
    "    )\n",
    "\n",
    "    # Initialize Change-Point Detector\n",
    "    ref_size = 200\n",
    "    test_size = 200\n",
    "    subid_dmd = SubIDChangeDetector(\n",
    "        odmd,\n",
    "        ref_size=ref_size,\n",
    "        test_size=test_size,\n",
    "        grace_period=init_size + test_size + 1,\n",
    "    )\n",
    "\n",
    "    # Build pipeline\n",
    "    pipeline_dmd = hankelizer | subid_dmd\n",
    "\n",
    "    # Prepare arrays for storing results\n",
    "    scores_dmd = np.zeros(X.shape[0], dtype=float)\n",
    "\n",
    "    # Run pipeline\n",
    "    for i, (_, x) in enumerate(df.iterrows()):\n",
    "        # print every 1000\n",
    "        if i % 1000 == 0:\n",
    "            print(f\"\\rProcessed {i}/{len(df)}\", end=\"\")\n",
    "\n",
    "        pipeline_dmd.learn_one(x.to_dict(), **{\"u\": u.to_dict()})\n",
    "\n",
    "        scores_dmd[i] = subid_dmd.score\n",
    "\n",
    "\n",
    "cProfile.run(\"simulate()\", \".stats_new\")"
   ]
  },
  {
   "cell_type": "code",
   "execution_count": null,
   "metadata": {},
   "outputs": [],
   "source": [
    "p = pstats.Stats(\".stats_new\")\n",
    "p.strip_dirs().sort_stats(SortKey.CUMULATIVE).print_stats()"
   ]
  }
 ],
 "metadata": {
  "kernelspec": {
   "display_name": ".venv",
   "language": "python",
   "name": "python3"
  },
  "language_info": {
   "codemirror_mode": {
    "name": "ipython",
    "version": 3
   },
   "file_extension": ".py",
   "mimetype": "text/x-python",
   "name": "python",
   "nbconvert_exporter": "python",
   "pygments_lexer": "ipython3",
   "version": "3.12.2"
  }
 },
 "nbformat": 4,
 "nbformat_minor": 2
}
