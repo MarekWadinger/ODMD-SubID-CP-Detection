{
    "cells": [
        {
            "cell_type": "code",
            "execution_count": 6,
            "metadata": {},
            "outputs": [],
            "source": [
                "import json\n",
                "import os\n",
                "import sys\n",
                "\n",
                "import numpy as np\n",
                "import pandas as pd\n",
                "from river.decomposition import OnlineDMDwC\n",
                "from river.preprocessing import Hankelizer\n",
                "from river.utils import Rolling\n",
                "from tqdm import tqdm\n",
                "\n",
                "sys.path.append(\"../\")\n",
                "\n",
                "from functions.chdsubid import SubIDChangeDetector, get_default_rank\n",
                "from functions.plot import plot_chd\n",
                "from functions.preprocessing import hankel\n",
                "\n",
                "Rolling.learn_one = Rolling.update  # type: ignore"
            ]
        },
        {
            "cell_type": "code",
            "execution_count": 7,
            "metadata": {},
            "outputs": [
                {
                    "name": "stdout",
                    "output_type": "stream",
                    "text": [
                        "The autoreload extension is already loaded. To reload it, use:\n",
                        "  %reload_ext autoreload\n"
                    ]
                }
            ],
            "source": [
                "%load_ext autoreload\n",
                "%autoreload 2"
            ]
        },
        {
            "cell_type": "code",
            "execution_count": 8,
            "metadata": {},
            "outputs": [],
            "source": [
                "# Read data\n",
                "df = pd.read_csv(\"data/eco-pack/20230908_eco_pack_presov.csv\", index_col=0)\n",
                "df.index = pd.to_datetime(df.index)\n",
                "df_u = pd.read_csv(\"data/eco-pack/20230908_model_input.csv\", index_col=0).drop(\n",
                "    columns=[\"Kokam_String:F_Module Fan Fault\"]\n",
                ")\n",
                "df_u.index = pd.to_datetime(df_u.index)\n",
                "n_u = df_u.shape[1]\n",
                "aligned_df = df.merge(df_u, left_index=True, right_index=True)\n",
                "\n",
                "y = aligned_df.pop(\"Kokam_String:F_Module Fan Fault\")\n",
                "U = aligned_df.iloc[:, -n_u:]\n",
                "X = aligned_df.iloc[:, :-n_u]"
            ]
        },
        {
            "cell_type": "code",
            "execution_count": 20,
            "metadata": {},
            "outputs": [
                {
                    "name": "stdout",
                    "output_type": "stream",
                    "text": [
                        "Optimal rank for states is: 4\n",
                        "Optimal rank for inputs is: 4\n"
                    ]
                }
            ],
            "source": [
                "\n",
                "window_size: int | None = 2 * 60 * 24\n",
                "init_size = (\n",
                "    window_size - 1\n",
                ")  # Unsupervised usage reserves one iteration for contstructing y\n",
                "# Base size\n",
                "ref_size = 2 * 60 * 2\n",
                "test_size = 4 * 60 * 2\n",
                "# If window_size is not very large, then take half\n",
                "h_max = 6\n",
                "h_reco = window_size // 2\n",
                "if h_reco < h_max:\n",
                "    hn = h_reco\n",
                "    hu = h_reco\n",
                "    step = 1\n",
                "else:\n",
                "    hn = h_max\n",
                "    hu = 1\n",
                "    step = (window_size // 2) // h_max\n",
                "# Optimal low-rank representation of signal with unknown noise variance\n",
                "p = min(4, get_default_rank(hankel(X[:window_size], hn, step=step)))\n",
                "print(f\"Optimal rank for states is: {p}\")\n",
                "q = min(4, get_default_rank(hankel(U[:window_size], hu, step=step)))\n",
                "print(f\"Optimal rank for inputs is: {q}\")\n",
                "# Snapshots weighting\n",
                "w = 1.0"
            ]
        },
        {
            "cell_type": "code",
            "execution_count": null,
            "metadata": {},
            "outputs": [],
            "source": [
                "# [donotremove]\n",
                "# TODO: enable hankelization of us on the fly\n",
                "U_ = pd.DataFrame(hankel(U, hn=hu))\n",
                "\n",
                "# Initialize Hankelizer\n",
                "hankelizer = Hankelizer(hn)\n",
                "\n",
                "# Initialize Transformer\n",
                "odmd = OnlineDMDwC(\n",
                "    p=p,\n",
                "    q=q,\n",
                "    initialize=init_size,\n",
                "    w=1.0,\n",
                "    exponential_weighting=False,\n",
                "    eig_rtol=1e-1,\n",
                ")\n",
                "if window_size:\n",
                "    odmd = Rolling(odmd, window_size)\n",
                "\n",
                "# Initialize Change-Point Detector\n",
                "subid_dmd = SubIDChangeDetector(\n",
                "    odmd,\n",
                "    ref_size=ref_size,\n",
                "    test_size=test_size,\n",
                "    grace_period=init_size + test_size + 1,\n",
                ")\n",
                "\n",
                "# Build pipeline\n",
                "pipeline_dmd = hankelizer | subid_dmd\n",
                "\n",
                "# Prepare arrays for storing results\n",
                "scores_dmd = np.zeros(X.shape[0], dtype=float)\n",
                "scores_dmd_diff = np.zeros(X.shape[0], dtype=complex)\n",
                "dist = np.zeros((X.shape[0], 2), dtype=complex)\n",
                "\n",
                "# Run pipeline\n",
                "for i, (x, u) in tqdm(\n",
                "    enumerate(\n",
                "        zip(\n",
                "            X.to_dict(orient=\"records\"),\n",
                "            U_.to_dict(orient=\"records\"),\n",
                "        )\n",
                "    ),\n",
                "    total=len(X),\n",
                "    mininterval=1.0,\n",
                "    desc=\"Snapshots processed\",\n",
                "):\n",
                "    scores_dmd[i] = pipeline_dmd.score_one(x)\n",
                "    dist[i, :] = subid_dmd.distances\n",
                "    scores_dmd_diff[i] = dist[i, 1] - dist[i, 0]\n",
                "\n",
                "    pipeline_dmd.learn_one(x, **{\"u\": u})\n"
            ]
        },
        {
            "cell_type": "code",
            "execution_count": 16,
            "metadata": {},
            "outputs": [
                {
                    "name": "stderr",
                    "output_type": "stream",
                    "text": [
                        "/var/folders/zw/bktnb4fx24l0wfdggx3jv71m0000gn/T/ipykernel_62989/2996112455.py:42: UserWarning: Creating legend with loc=\"best\" can be slow with large amounts of data.\n",
                        "  fig.savefig(results_name + \".pdf\")\n",
                        "/Users/mw/pyprojects/odmd-subid-cpd/.venv/lib/python3.12/site-packages/IPython/core/events.py:82: UserWarning: Creating legend with loc=\"best\" can be slow with large amounts of data.\n",
                        "  func(*args, **kwargs)\n",
                        "/Users/mw/pyprojects/odmd-subid-cpd/.venv/lib/python3.12/site-packages/IPython/core/pylabtools.py:152: UserWarning: Creating legend with loc=\"best\" can be slow with large amounts of data.\n",
                        "  fig.canvas.print_figure(bytes_io, **kw)\n"
                    ]
                }
            ],
            "source": [
                "results_name = (\n",
                "    f\"results/.bess/bess-chd_p{p}-l{window_size}_b{ref_size}_t{test_size}\"\n",
                "    f\"{'noroll' if window_size is None else f'roll_{window_size}'}-\"\n",
                "    f\"dmd_w{w}-hx{hn}-imag\"\n",
                ")\n",
                "\n",
                "if \"scores_dmd\" not in locals():\n",
                "    if os.path.exists(results_name + \".json\"):\n",
                "        results = json.load(open(results_name + \".json\"))\n",
                "        scores_dmd = np.array(results[\"scores_dmd\"])\n",
                "        scores_dmd_diff = np.array(results[\"scores_dmd_diff\"])\n",
                "    else:\n",
                "        raise ValueError(\"No results found. Please rerun the experiment.\")\n",
                "else:\n",
                "    results = {\n",
                "        \"params\": {\n",
                "            \"p\": str(p),\n",
                "            \"window_size\": str(window_size),\n",
                "            \"init_size\": str(init_size),\n",
                "            \"ref_size\": str(ref_size),\n",
                "            \"test_size\": str(test_size),\n",
                "            \"hn\": str(hn),\n",
                "        },\n",
                "        \"scores_dmd\": scores_dmd.real.tolist(),\n",
                "        \"scores_dmd_diff\": scores_dmd_diff.real.tolist(),\n",
                "    }\n",
                "    os.makedirs(os.path.dirname(results_name), exist_ok=True)\n",
                "\n",
                "    json.dump(results, open(results_name + \".json\", \"w\"))\n",
                "\n",
                "# Plot results\n",
                "fig, axs = plot_chd(\n",
                "    [X.values, scores_dmd.real, scores_dmd_diff.real],\n",
                "    np.where(y == 1)[0],\n",
                "    labels=[\"X\", \"DMD\", \"DMD (diff)\", \"SVD\"],\n",
                "    grace_period=test_size,\n",
                "    ids_in_start=[4000],\n",
                "    ids_in_end=[5000],\n",
                ")\n",
                "fig.set_size_inches(18, 10)  # Set the size of the figure\n",
                "\n",
                "fig.savefig(results_name + \".pdf\")"
            ]
        }
    ],
    "metadata": {
        "kernelspec": {
            "display_name": ".venv",
            "language": "python",
            "name": "python3"
        },
        "language_info": {
            "codemirror_mode": {
                "name": "ipython",
                "version": 3
            },
            "file_extension": ".py",
            "mimetype": "text/x-python",
            "name": "python",
            "nbconvert_exporter": "python",
            "pygments_lexer": "ipython3",
            "version": "3.12.2"
        }
    },
    "nbformat": 4,
    "nbformat_minor": 2
}